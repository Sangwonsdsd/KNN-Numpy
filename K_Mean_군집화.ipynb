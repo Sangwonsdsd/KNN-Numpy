{
  "nbformat": 4,
  "nbformat_minor": 0,
  "metadata": {
    "colab": {
      "name": "K-Mean 군집화",
      "provenance": [],
      "collapsed_sections": [],
      "authorship_tag": "ABX9TyP8BX2Z/u9jxUs+StWlQWfX",
      "include_colab_link": true
    },
    "kernelspec": {
      "name": "python3",
      "display_name": "Python 3"
    },
    "language_info": {
      "name": "python"
    }
  },
  "cells": [
    {
      "cell_type": "markdown",
      "metadata": {
        "id": "view-in-github",
        "colab_type": "text"
      },
      "source": [
        "<a href=\"https://colab.research.google.com/github/Sangwonsdsd/KNN-Numpy/blob/master/K_Mean_%EA%B5%B0%EC%A7%91%ED%99%94.ipynb\" target=\"_parent\"><img src=\"https://colab.research.google.com/assets/colab-badge.svg\" alt=\"Open In Colab\"/></a>"
      ]
    },
    {
      "cell_type": "code",
      "metadata": {
        "id": "GBghKeFHf9tl"
      },
      "source": [
        "%matplotlib inline\n",
        "import numpy as np\n",
        "import matplotlib.pyplot as plt "
      ],
      "execution_count": null,
      "outputs": []
    },
    {
      "cell_type": "code",
      "metadata": {
        "id": "5JTfNO8EK38K"
      },
      "source": [
        "dataset = np.array([[ 1.658985,  4.285136],\n",
        "       [-3.453687,  3.424321],\n",
        "       [ 4.838138, -1.151539],\n",
        "       [-5.379713, -3.362104],\n",
        "       [ 0.972564,  2.924086],\n",
        "       [-3.567919,  1.531611],\n",
        "       [ 0.450614, -3.302219],\n",
        "       [-3.487105, -1.724432],\n",
        "       [ 2.668759,  1.594842],\n",
        "       [-3.156485,  3.191137],\n",
        "       [ 3.165506, -3.999838],\n",
        "       [-2.786837, -3.099354],\n",
        "       [ 4.208187,  2.984927],\n",
        "       [-2.123337,  2.943366],\n",
        "       [ 0.704199, -0.479481],\n",
        "       [-0.39237 , -3.963704],\n",
        "       [ 2.831667,  1.574018],\n",
        "       [-0.790153,  3.343144],\n",
        "       [ 2.943496, -3.357075],\n",
        "       [-3.195883, -2.283926],\n",
        "       [ 2.336445,  2.875106],\n",
        "       [-1.786345,  2.554248],\n",
        "       [ 2.190101, -1.90602 ],\n",
        "       [-3.403367, -2.778288],\n",
        "       [ 1.778124,  3.880832],\n",
        "       [-1.688346,  2.230267],\n",
        "       [ 2.592976, -2.054368],\n",
        "       [-4.007257, -3.207066],\n",
        "       [ 2.257734,  3.387564],\n",
        "       [-2.679011,  0.785119],\n",
        "       [ 0.939512, -4.023563],\n",
        "       [-3.674424, -2.261084],\n",
        "       [ 2.046259,  2.735279],\n",
        "       [-3.18947 ,  1.780269],\n",
        "       [ 4.372646, -0.822248],\n",
        "       [-2.579316, -3.497576],\n",
        "       [ 1.889034,  5.1904  ],\n",
        "       [-0.798747,  2.185588],\n",
        "       [ 2.83652 , -2.658556],\n",
        "       [-3.837877, -3.253815],\n",
        "       [ 2.096701,  3.886007],\n",
        "       [-2.709034,  2.923887],\n",
        "       [ 3.367037, -3.184789],\n",
        "       [-2.121479, -4.232586],\n",
        "       [ 2.329546,  3.179764],\n",
        "       [-3.284816,  3.273099],\n",
        "       [ 3.091414, -3.815232],\n",
        "       [-3.762093, -2.432191],\n",
        "       [ 3.542056,  2.778832],\n",
        "       [-1.736822,  4.241041],\n",
        "       [ 2.127073, -2.98368 ],\n",
        "       [-4.323818, -3.938116],\n",
        "       [ 3.792121,  5.135768],\n",
        "       [-4.786473,  3.358547],\n",
        "       [ 2.624081, -3.260715],\n",
        "       [-4.009299, -2.978115],\n",
        "       [ 2.493525,  1.96371 ],\n",
        "       [-2.513661,  2.642162],\n",
        "       [ 1.864375, -3.176309],\n",
        "       [-3.171184, -3.572452],\n",
        "       [ 2.89422 ,  2.489128],\n",
        "       [-2.562539,  2.884438],\n",
        "       [ 3.491078, -3.947487],\n",
        "       [-2.565729, -2.012114],\n",
        "       [ 3.332948,  3.983102],\n",
        "       [-1.616805,  3.573188],\n",
        "       [ 2.280615, -2.559444],\n",
        "       [-2.651229, -3.103198],\n",
        "       [ 2.321395,  3.154987],\n",
        "       [-1.685703,  2.939697],\n",
        "       [ 3.031012, -3.620252],\n",
        "       [-4.599622, -2.185829],\n",
        "       [ 4.196223,  1.126677],\n",
        "       [-2.133863,  3.093686],\n",
        "       [ 4.668892, -2.562705],\n",
        "       [-2.793241, -2.149706],\n",
        "       [ 2.884105,  3.043438],\n",
        "       [-2.967647,  2.848696],\n",
        "       [ 4.479332, -1.764772],\n",
        "       [-4.905566, -2.91107 ]])"
      ],
      "execution_count": null,
      "outputs": []
    },
    {
      "cell_type": "code",
      "metadata": {
        "colab": {
          "base_uri": "https://localhost:8080/",
          "height": 281
        },
        "id": "GL2XUD_8K7TQ",
        "outputId": "6dd9e6ac-d45e-45f2-912d-4c56658edf53"
      },
      "source": [
        "# 예제 데이터셋 시각화\n",
        "plt.title(\"The Distribution of Point\")\n",
        "plt.scatter(dataset[:,0],dataset[:,1])\n",
        "plt.show()"
      ],
      "execution_count": null,
      "outputs": [
        {
          "output_type": "display_data",
          "data": {
            "image/png": "[encoded data removed]",
            "text/plain": [
              "<Figure size 432x288 with 1 Axes>"
            ]
          },
          "metadata": {
            "needs_background": "light"
          }
        }
      ]
    },
    {
      "cell_type": "code",
      "metadata": {
        "colab": {
          "base_uri": "https://localhost:8080/",
          "height": 281
        },
        "id": "0NLaMQFNK-BA",
        "outputId": "39bd234a-9244-4e65-d141-6bb450f429d7"
      },
      "source": [
        "# 예제 데이터셋 시각화\n",
        "plt.title(\"The Distribution of Point\")\n",
        "plt.scatter(dataset[:,0],dataset[:,1],label='dataset')\n",
        "plt.scatter([-3.5,-2,2.5,2.5],[-2.3,3.5,3.8,-2],\n",
        "            s=200, label=\"centroid\", marker='+')\n",
        "plt.legend()\n",
        "plt.show()"
      ],
      "execution_count": 321,
      "outputs": [
        {
          "output_type": "display_data",
          "data": {
            "image/png": "[encoded data removed]",
            "text/plain": [
              "<Figure size 432x288 with 1 Axes>"
            ]
          },
          "metadata": {
            "needs_background": "light"
          }
        }
      ]
    },
    {
      "cell_type": "code",
      "metadata": {
        "id": "TbONwyJuK_7o"
      },
      "source": [
        "center_x = np.random.uniform(min(dataset[:,0]), max(dataset[:,0]),4)\n",
        "center_y = np.random.uniform(min(dataset[:,1]), max(dataset[:,1]),4)\n",
        "centroids = np.stack([center_x,center_y],axis=-1)"
      ],
      "execution_count": 331,
      "outputs": []
    },
    {
      "cell_type": "code",
      "metadata": {
        "colab": {
          "base_uri": "https://localhost:8080/",
          "height": 281
        },
        "id": "SZECtiBdLFr4",
        "outputId": "6afdf762-a9f8-4618-fa6c-627195a75c8d"
      },
      "source": [
        "# 예제 데이터셋 시각화\n",
        "\n",
        "plt.title(\"The Distribution of Point\")\n",
        "plt.scatter(dataset[:,0],dataset[:,1],label='dataset')\n",
        "plt.scatter(centroids[:,0],centroids[:,1],\n",
        "            s=200, label=\"centroid\", marker='+')\n",
        "plt.legend()\n",
        "plt.show()"
      ],
      "execution_count": 332,
      "outputs": [
        {
          "output_type": "display_data",
          "data": {
            "image/png": "[encoded data removed]",
            "text/plain": [
              "<Figure size 432x288 with 1 Axes>"
            ]
          },
          "metadata": {
            "needs_background": "light"
          }
        }
      ]
    },
    {
      "cell_type": "code",
      "metadata": {
        "colab": {
          "base_uri": "https://localhost:8080/"
        },
        "id": "x5BV68yk-vPn",
        "outputId": "de66594f-08f8-4c88-ee85-1527d740572c"
      },
      "source": [
        "dists = np.array(np.sqrt((dataset.T.reshape(1, 2, 80) - centroids.reshape(4, 2, 1))[:,0]**2 + (dataset.T.reshape(1, 2, 80) - centroids.reshape(4, 2, 1))[:,1]**2))\n",
        "dists.shape"
      ],
      "execution_count": 365,
      "outputs": [
        {
          "output_type": "execute_result",
          "data": {
            "text/plain": [
              "(4, 80)"
            ]
          },
          "metadata": {},
          "execution_count": 365
        }
      ]
    },
    {
      "cell_type": "code",
      "metadata": {
        "colab": {
          "base_uri": "https://localhost:8080/"
        },
        "id": "g6hgNsZHvQmC",
        "outputId": "55aa3895-e558-4dec-8879-4baabc9c013e"
      },
      "source": [
        "cluster_per_point= np.argmin(dists, axis=0)\n",
        "cluster_per_point"
      ],
      "execution_count": 366,
      "outputs": [
        {
          "output_type": "execute_result",
          "data": {
            "text/plain": [
              "array([2, 2, 3, 1, 0, 1, 3, 1, 0, 2, 3, 1, 0, 2, 0, 3, 0, 2, 3, 1, 0, 2,\n",
              "       3, 1, 0, 2, 3, 1, 0, 1, 3, 1, 0, 1, 3, 3, 2, 2, 3, 1, 0, 2, 3, 3,\n",
              "       0, 2, 3, 1, 0, 2, 3, 1, 0, 1, 3, 1, 0, 2, 3, 1, 0, 2, 3, 1, 0, 2,\n",
              "       3, 0, 0, 2, 3, 1, 0, 2, 3, 1, 0, 2, 3, 1])"
            ]
          },
          "metadata": {},
          "execution_count": 366
        }
      ]
    },
    {
      "cell_type": "markdown",
      "metadata": {
        "id": "kq3jbhxnYso6"
      },
      "source": [
        ""
      ]
    },
    {
      "cell_type": "code",
      "metadata": {
        "id": "1n2-zYEP91-_",
        "colab": {
          "base_uri": "https://localhost:8080/",
          "height": 326
        },
        "outputId": "fb101e96-e692-4324-8062-ece2a2a58f99"
      },
      "source": [
        "k = 4 \n",
        "for i in range(k):\n",
        "\n",
        "  target_point = dists(0,0,4)\n",
        "\n",
        "  centroids[i] = "
      ],
      "execution_count": 360,
      "outputs": [
        {
          "output_type": "error",
          "ename": "NameError",
          "evalue": "ignored",
          "traceback": [
            "\u001b[0;31m---------------------------------------------------------------------------\u001b[0m",
            "\u001b[0;31mNameError\u001b[0m                                 Traceback (most recent call last)",
            "\u001b[0;32m<ipython-input-360-f055b245a9a7>\u001b[0m in \u001b[0;36m<module>\u001b[0;34m()\u001b[0m\n\u001b[1;32m      1\u001b[0m \u001b[0mk\u001b[0m \u001b[0;34m=\u001b[0m \u001b[0;36m4\u001b[0m\u001b[0;34m\u001b[0m\u001b[0;34m\u001b[0m\u001b[0m\n\u001b[1;32m      2\u001b[0m \u001b[0;32mfor\u001b[0m \u001b[0mi\u001b[0m \u001b[0;32min\u001b[0m \u001b[0mrange\u001b[0m\u001b[0;34m(\u001b[0m\u001b[0mk\u001b[0m\u001b[0;34m)\u001b[0m\u001b[0;34m:\u001b[0m\u001b[0;34m\u001b[0m\u001b[0;34m\u001b[0m\u001b[0m\n\u001b[0;32m----> 3\u001b[0;31m   \u001b[0mtarget_point\u001b[0m \u001b[0;34m=\u001b[0m\u001b[0;34m[\u001b[0m\u001b[0mcluster_per_point\u001b[0m\u001b[0;34m[\u001b[0m\u001b[0mj\u001b[0m\u001b[0;34m]\u001b[0m \u001b[0;32mfor\u001b[0m \u001b[0mj\u001b[0m \u001b[0;32min\u001b[0m \u001b[0mrange\u001b[0m\u001b[0;34m(\u001b[0m\u001b[0mlen\u001b[0m\u001b[0;34m(\u001b[0m\u001b[0mcluster_per_point\u001b[0m\u001b[0;34m)\u001b[0m\u001b[0;34m)\u001b[0m \u001b[0;32mif\u001b[0m \u001b[0mlabels\u001b[0m\u001b[0;34m[\u001b[0m\u001b[0mj\u001b[0m\u001b[0;34m]\u001b[0m \u001b[0;34m==\u001b[0m \u001b[0mi\u001b[0m \u001b[0;34m]\u001b[0m\u001b[0;34m\u001b[0m\u001b[0;34m\u001b[0m\u001b[0m\n\u001b[0m\u001b[1;32m      4\u001b[0m   \u001b[0mcentroids\u001b[0m\u001b[0;34m[\u001b[0m\u001b[0mi\u001b[0m\u001b[0;34m]\u001b[0m \u001b[0;34m=\u001b[0m \u001b[0mnp\u001b[0m\u001b[0;34m.\u001b[0m\u001b[0mmean\u001b[0m\u001b[0;34m(\u001b[0m\u001b[0mtarget_point\u001b[0m\u001b[0;34m,\u001b[0m \u001b[0maxis\u001b[0m\u001b[0;34m=\u001b[0m\u001b[0;36m0\u001b[0m\u001b[0;34m)\u001b[0m\u001b[0;34m\u001b[0m\u001b[0;34m\u001b[0m\u001b[0m\n",
            "\u001b[0;32m<ipython-input-360-f055b245a9a7>\u001b[0m in \u001b[0;36m<listcomp>\u001b[0;34m(.0)\u001b[0m\n\u001b[1;32m      1\u001b[0m \u001b[0mk\u001b[0m \u001b[0;34m=\u001b[0m \u001b[0;36m4\u001b[0m\u001b[0;34m\u001b[0m\u001b[0;34m\u001b[0m\u001b[0m\n\u001b[1;32m      2\u001b[0m \u001b[0;32mfor\u001b[0m \u001b[0mi\u001b[0m \u001b[0;32min\u001b[0m \u001b[0mrange\u001b[0m\u001b[0;34m(\u001b[0m\u001b[0mk\u001b[0m\u001b[0;34m)\u001b[0m\u001b[0;34m:\u001b[0m\u001b[0;34m\u001b[0m\u001b[0;34m\u001b[0m\u001b[0m\n\u001b[0;32m----> 3\u001b[0;31m   \u001b[0mtarget_point\u001b[0m \u001b[0;34m=\u001b[0m\u001b[0;34m[\u001b[0m\u001b[0mcluster_per_point\u001b[0m\u001b[0;34m[\u001b[0m\u001b[0mj\u001b[0m\u001b[0;34m]\u001b[0m \u001b[0;32mfor\u001b[0m \u001b[0mj\u001b[0m \u001b[0;32min\u001b[0m \u001b[0mrange\u001b[0m\u001b[0;34m(\u001b[0m\u001b[0mlen\u001b[0m\u001b[0;34m(\u001b[0m\u001b[0mcluster_per_point\u001b[0m\u001b[0;34m)\u001b[0m\u001b[0;34m)\u001b[0m \u001b[0;32mif\u001b[0m \u001b[0mlabels\u001b[0m\u001b[0;34m[\u001b[0m\u001b[0mj\u001b[0m\u001b[0;34m]\u001b[0m \u001b[0;34m==\u001b[0m \u001b[0mi\u001b[0m \u001b[0;34m]\u001b[0m\u001b[0;34m\u001b[0m\u001b[0;34m\u001b[0m\u001b[0m\n\u001b[0m\u001b[1;32m      4\u001b[0m   \u001b[0mcentroids\u001b[0m\u001b[0;34m[\u001b[0m\u001b[0mi\u001b[0m\u001b[0;34m]\u001b[0m \u001b[0;34m=\u001b[0m \u001b[0mnp\u001b[0m\u001b[0;34m.\u001b[0m\u001b[0mmean\u001b[0m\u001b[0;34m(\u001b[0m\u001b[0mtarget_point\u001b[0m\u001b[0;34m,\u001b[0m \u001b[0maxis\u001b[0m\u001b[0;34m=\u001b[0m\u001b[0;36m0\u001b[0m\u001b[0;34m)\u001b[0m\u001b[0;34m\u001b[0m\u001b[0;34m\u001b[0m\u001b[0m\n",
            "\u001b[0;31mNameError\u001b[0m: name 'labels' is not defined"
          ]
        }
      ]
    },
    {
      "cell_type": "code",
      "metadata": {
        "id": "c-Wrk-kpIICY"
      },
      "source": [
        "num_data = dataset.shape[0]\n",
        "\n",
        "cluster_per_point = np.ones((num_data))\n",
        "\n",
        "counter = 0\n",
        "while True:\n",
        "    prev_cluster_per_point = cluster_per_point\n",
        "    dists = np.array(np.sqrt((dataset.T.reshape(1, 2, 80) - centroids.reshape(4, 2, 1))[:,0]**2 + (dataset.T.reshape(1, 2, 80) - centroids.reshape(4, 2, 1))[:,1]**2))\n",
        "    cluster_per_point= np.argmin(dists, axis=0)\n",
        "\n",
        "\n",
        "    counter += 1\n",
        "    plt.title(\"{}th Distribution of Dataset\".format(counter))\n",
        "    for idx, color in enumerate(['r','g','b','y']):\n",
        "        mask = (cluster_per_point==idx)\n",
        "        plt.scatter(dataset[mask,0],dataset[mask,1],\n",
        "                    label='dataset', c=color)\n",
        "        plt.scatter(centroids[:,0],centroids[:,1],\n",
        "                    s=200, label=\"centroid\", marker='+')\n",
        "    plt.show()"
      ],
      "execution_count": null,
      "outputs": []
    },
    {
      "cell_type": "code",
      "metadata": {
        "id": "MZqwJUUjIecQ"
      },
      "source": [
        "def cluster_kmeans(dataset, k):    \n",
        "    ## fix ## \n",
        "    return centroids"
      ],
      "execution_count": null,
      "outputs": []
    }
  ]
}